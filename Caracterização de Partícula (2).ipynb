{
 "cells": [
  {
   "cell_type": "markdown",
   "id": "b09852d8",
   "metadata": {},
   "source": [
    "# Caracterização de Partículas\n",
    "-----------------------------------------"
   ]
  },
  {
   "cell_type": "markdown",
   "id": "c4b57cd2",
   "metadata": {},
   "source": [
    "## Definição de Dados Iniciais\n",
    "---------------------------------------"
   ]
  },
  {
   "cell_type": "code",
   "execution_count": 1,
   "id": "5c9a9d5a",
   "metadata": {},
   "outputs": [],
   "source": [
    "#BIBLIOTECAS\n",
    "import numpy as np\n",
    "import pandas as pd\n",
    "import matplotlib.pyplot as plt\n",
    "\n",
    "#DADOS\n",
    "data = {\n",
    "\n",
    "    \"Mesh\":[\"Sem Mesh\",12,32,48,60,100,\"Fundo\"],\n",
    "    \"Diâmetro\":[6.3,1.4,0.5,0.3,0.25,0.15,0],\n",
    "    \"Massa Peneira\":[478,412,348,404,348,338,336],\n",
    "    \"Massa Total\":[578,612,566,604,362,404,340]\n",
    "\n",
    "}\n",
    "\n",
    "dataset = pd.DataFrame(data) #Criando Dataset inicial"
   ]
  },
  {
   "cell_type": "markdown",
   "id": "4a298b27",
   "metadata": {},
   "source": [
    "## Tabela Base\n",
    "---"
   ]
  },
  {
   "cell_type": "markdown",
   "id": "ae022c88",
   "metadata": {},
   "source": [
    "Esta tabela, servirá como um"
   ]
  },
  {
   "cell_type": "code",
   "execution_count": 2,
   "id": "4256af74",
   "metadata": {},
   "outputs": [],
   "source": [
    "def Base_Table():\n",
    "    pd.options.display.float_format = '{:,.4f}'.format\n",
    "\n",
    "    dataset[\"Massa Solido\"] = dataset[\"Massa Total\"] - dataset[\"Massa Peneira\"]\n",
    "    dataset[\"Fração Retida\"] = dataset[\"Massa Solido\"]/sum(dataset[\"Massa Solido\"])\n",
    "    dataset[\"Percentual Retido\"] = dataset[\"Fração Retida\"] * 100\n",
    "\n",
    "    \n",
    "    dataset[\"Fração Passante\"] = 1 - dataset[\"Fração Retida\"].cumsum()\n",
    "    dataset[\"Percentual Passante\"] = dataset[\"Fração Passante\"] * 100\n",
    "\n",
    "    return dataset"
   ]
  },
  {
   "cell_type": "code",
   "execution_count": 3,
   "id": "71112eca",
   "metadata": {},
   "outputs": [],
   "source": [
    "def Model_Table():\n",
    "    model_table = pd.DataFrame()\n",
    "    \n",
    "    model_table[\"Diâmetro\"] = dataset[\"Diâmetro\"].iloc[:-1]\n",
    "    model_table[\"Fração Passante\"] = Base_Table()[\"Fração Passante\"]\n",
    "    \n",
    "    model_table[\"1/(1-Xi)\"] = 1/(1 - model_table[\"Fração Passante\"])\n",
    "    model_table[\"X/(1-X)\"] = model_table[\"Fração Passante\"]/(1 - model_table[\"Fração Passante\"])\n",
    "\n",
    "\n",
    "    return model_table"
   ]
  },
  {
   "cell_type": "code",
   "execution_count": 4,
   "id": "320a3f11",
   "metadata": {},
   "outputs": [],
   "source": [
    "def RRB():\n",
    "    RRB_table = pd.DataFrame()\n",
    "    \n",
    "    RRB_table[\"ln(Di)\"] = np.log(Model_Table()[\"Diâmetro\"])\n",
    "    RRB_table[\"ln{ln[1/(1-Xi)]}\"] = np.log(np.log(Model_Table()[\"1/(1-Xi)\"]))\n",
    "    \n",
    "    X_RRB = RRB_table[\"ln(Di)\"].values.reshape(-1, 1)\n",
    "    Y_RRB = RRB_table[\"ln{ln[1/(1-Xi)]}\"].values\n",
    "\n",
    "    return {\"Table\":RRB_table, \"X\":X_RRB, \"Y\":Y_RRB}"
   ]
  },
  {
   "cell_type": "code",
   "execution_count": 5,
   "id": "03927632",
   "metadata": {},
   "outputs": [],
   "source": [
    "def GGS():\n",
    "    GGS_table = pd.DataFrame()\n",
    "    \n",
    "    GGS_table[\"ln(Di)\"] = np.log(Model_Table()[\"Diâmetro\"])\n",
    "    GGS_table[\"ln(Xi)\"] = np.log(Model_Table()[\"Fração Passante\"])\n",
    "    \n",
    "    X_GGS = GGS_table[\"ln(Di)\"].values.reshape(-1, 1)\n",
    "    Y_GGS = GGS_table[\"ln(Xi)\"].values\n",
    "\n",
    "    return {\"Table\":GGS_table, \"X\":X_GGS, \"Y\":Y_GGS}"
   ]
  },
  {
   "cell_type": "code",
   "execution_count": 6,
   "id": "d9dfd27c",
   "metadata": {},
   "outputs": [],
   "source": [
    "def Sigmoide():\n",
    "    Sig_Table = pd.DataFrame()\n",
    "    \n",
    "    Sig_Table[\"log(Di)\"] = np.log10(Model_Table()[\"Diâmetro\"])\n",
    "    Sig_Table[\"log(X/(1-X))\"] = np.log10(Model_Table()[\"X/(1-X)\"])\n",
    "    \n",
    "    X_Sig = Sig_Table[\"log(Di)\"].values.reshape(-1,1)\n",
    "    Y_Sig = Sig_Table[\"log(X/(1-X))\"].values\n",
    "\n",
    "    return {\"table\":Sig_Table, \"X\":X_Sig, \"Y\":Y_Sig}"
   ]
  },
  {
   "cell_type": "code",
   "execution_count": 7,
   "id": "cc8a8897",
   "metadata": {},
   "outputs": [],
   "source": [
    "def Regression(X,Y):\n",
    "\n",
    "    #Treinamento da Máquina\n",
    "    from sklearn.linear_model import LinearRegression\n",
    "\n",
    "    regressor = LinearRegression()\n",
    "    regressor.fit(X, Y)\n",
    "\n",
    "    #Previsão\n",
    "    Y_pred = regressor.predict(X)\n",
    "\n",
    "    #Validação do Modelo\n",
    "    from sklearn.metrics import r2_score\n",
    "\n",
    "    r2_score = r2_score(Y, Y_pred)\n",
    "    \n",
    "    #return r2_score, Y_pred\n",
    "    return {\"score\":r2_score, \"prediction\":Y_pred}"
   ]
  },
  {
   "cell_type": "code",
   "execution_count": 8,
   "id": "2cc94cb2",
   "metadata": {},
   "outputs": [],
   "source": [
    "#SELEÇÃO DO MELHOR MODELO\n",
    "\n",
    "models = {\n",
    "    \"RRB\":RRB(),\n",
    "    \"GGS\":GGS(),\n",
    "    \"Sigmoide\":Sigmoide()\n",
    "    }\n",
    "\n",
    "regressions = {\n",
    "    \"RRB\":Regression(RRB()[\"X\"], RRB()[\"Y\"]),\n",
    "    \"GGS\":Regression(GGS()[\"X\"], GGS()[\"Y\"]),\n",
    "    \"Sigmoide\":Regression(Sigmoide()[\"X\"], Sigmoide()[\"Y\"])\n",
    "    }\n",
    "\n",
    "model_labels = {\n",
    "    \"RRB\":(\"ln(Di)\", \"ln{ln[1/(1-Xi)]}\"),\n",
    "    \"GGS\":(\"ln(Di)\", \"ln(Xi)\"),\n",
    "    \"Sigmoide\":(\"log(Di)\", \"log(X/(1-X))\")\n",
    "    }\n",
    "\n",
    "best_model = max(dict(zip(models.keys(), [reg[\"score\"] for reg in regressions.values()])))\n",
    "\n",
    "#x_labels = {\"RRB\":\"ln(Di)\",\"GGS\":\"ln(Di)\",\"Sigmoide\":\"log(Di)\"}\n",
    "#y_labels = {\"RRB\":\"ln{ln[1/(1-Xi)]}\",\"GGS\":\"ln(Xi)\",\"Sigmoide\":\"log(X/(1-X))\"}\n"
   ]
  },
  {
   "cell_type": "code",
   "execution_count": null,
   "id": "eb788426",
   "metadata": {},
   "outputs": [
    {
     "name": "stdout",
     "output_type": "stream",
     "text": [
      "TABELA BASE\n"
     ]
    },
    {
     "data": {
      "text/html": [
       "<style type=\"text/css\">\n",
       "</style>\n",
       "<table id=\"T_8cc1f\">\n",
       "  <thead>\n",
       "    <tr>\n",
       "      <th id=\"T_8cc1f_level0_col0\" class=\"col_heading level0 col0\" >Mesh</th>\n",
       "      <th id=\"T_8cc1f_level0_col1\" class=\"col_heading level0 col1\" >Diâmetro</th>\n",
       "      <th id=\"T_8cc1f_level0_col2\" class=\"col_heading level0 col2\" >Massa Peneira</th>\n",
       "      <th id=\"T_8cc1f_level0_col3\" class=\"col_heading level0 col3\" >Massa Total</th>\n",
       "      <th id=\"T_8cc1f_level0_col4\" class=\"col_heading level0 col4\" >Massa Solido</th>\n",
       "      <th id=\"T_8cc1f_level0_col5\" class=\"col_heading level0 col5\" >Fração Retida</th>\n",
       "      <th id=\"T_8cc1f_level0_col6\" class=\"col_heading level0 col6\" >Percentual Retido</th>\n",
       "      <th id=\"T_8cc1f_level0_col7\" class=\"col_heading level0 col7\" >Fração Passante</th>\n",
       "      <th id=\"T_8cc1f_level0_col8\" class=\"col_heading level0 col8\" >Percentual Passante</th>\n",
       "    </tr>\n",
       "  </thead>\n",
       "  <tbody>\n",
       "    <tr>\n",
       "      <td id=\"T_8cc1f_row0_col0\" class=\"data row0 col0\" >Sem Mesh</td>\n",
       "      <td id=\"T_8cc1f_row0_col1\" class=\"data row0 col1\" >6.300000</td>\n",
       "      <td id=\"T_8cc1f_row0_col2\" class=\"data row0 col2\" >478</td>\n",
       "      <td id=\"T_8cc1f_row0_col3\" class=\"data row0 col3\" >578</td>\n",
       "      <td id=\"T_8cc1f_row0_col4\" class=\"data row0 col4\" >100</td>\n",
       "      <td id=\"T_8cc1f_row0_col5\" class=\"data row0 col5\" >0.124688</td>\n",
       "      <td id=\"T_8cc1f_row0_col6\" class=\"data row0 col6\" >12.468828</td>\n",
       "      <td id=\"T_8cc1f_row0_col7\" class=\"data row0 col7\" >0.875312</td>\n",
       "      <td id=\"T_8cc1f_row0_col8\" class=\"data row0 col8\" >87.531172</td>\n",
       "    </tr>\n",
       "    <tr>\n",
       "      <td id=\"T_8cc1f_row1_col0\" class=\"data row1 col0\" >12</td>\n",
       "      <td id=\"T_8cc1f_row1_col1\" class=\"data row1 col1\" >1.400000</td>\n",
       "      <td id=\"T_8cc1f_row1_col2\" class=\"data row1 col2\" >412</td>\n",
       "      <td id=\"T_8cc1f_row1_col3\" class=\"data row1 col3\" >612</td>\n",
       "      <td id=\"T_8cc1f_row1_col4\" class=\"data row1 col4\" >200</td>\n",
       "      <td id=\"T_8cc1f_row1_col5\" class=\"data row1 col5\" >0.249377</td>\n",
       "      <td id=\"T_8cc1f_row1_col6\" class=\"data row1 col6\" >24.937656</td>\n",
       "      <td id=\"T_8cc1f_row1_col7\" class=\"data row1 col7\" >0.625935</td>\n",
       "      <td id=\"T_8cc1f_row1_col8\" class=\"data row1 col8\" >62.593516</td>\n",
       "    </tr>\n",
       "    <tr>\n",
       "      <td id=\"T_8cc1f_row2_col0\" class=\"data row2 col0\" >32</td>\n",
       "      <td id=\"T_8cc1f_row2_col1\" class=\"data row2 col1\" >0.500000</td>\n",
       "      <td id=\"T_8cc1f_row2_col2\" class=\"data row2 col2\" >348</td>\n",
       "      <td id=\"T_8cc1f_row2_col3\" class=\"data row2 col3\" >566</td>\n",
       "      <td id=\"T_8cc1f_row2_col4\" class=\"data row2 col4\" >218</td>\n",
       "      <td id=\"T_8cc1f_row2_col5\" class=\"data row2 col5\" >0.271820</td>\n",
       "      <td id=\"T_8cc1f_row2_col6\" class=\"data row2 col6\" >27.182045</td>\n",
       "      <td id=\"T_8cc1f_row2_col7\" class=\"data row2 col7\" >0.354115</td>\n",
       "      <td id=\"T_8cc1f_row2_col8\" class=\"data row2 col8\" >35.411471</td>\n",
       "    </tr>\n",
       "    <tr>\n",
       "      <td id=\"T_8cc1f_row3_col0\" class=\"data row3 col0\" >48</td>\n",
       "      <td id=\"T_8cc1f_row3_col1\" class=\"data row3 col1\" >0.300000</td>\n",
       "      <td id=\"T_8cc1f_row3_col2\" class=\"data row3 col2\" >404</td>\n",
       "      <td id=\"T_8cc1f_row3_col3\" class=\"data row3 col3\" >604</td>\n",
       "      <td id=\"T_8cc1f_row3_col4\" class=\"data row3 col4\" >200</td>\n",
       "      <td id=\"T_8cc1f_row3_col5\" class=\"data row3 col5\" >0.249377</td>\n",
       "      <td id=\"T_8cc1f_row3_col6\" class=\"data row3 col6\" >24.937656</td>\n",
       "      <td id=\"T_8cc1f_row3_col7\" class=\"data row3 col7\" >0.104738</td>\n",
       "      <td id=\"T_8cc1f_row3_col8\" class=\"data row3 col8\" >10.473815</td>\n",
       "    </tr>\n",
       "    <tr>\n",
       "      <td id=\"T_8cc1f_row4_col0\" class=\"data row4 col0\" >60</td>\n",
       "      <td id=\"T_8cc1f_row4_col1\" class=\"data row4 col1\" >0.250000</td>\n",
       "      <td id=\"T_8cc1f_row4_col2\" class=\"data row4 col2\" >348</td>\n",
       "      <td id=\"T_8cc1f_row4_col3\" class=\"data row4 col3\" >362</td>\n",
       "      <td id=\"T_8cc1f_row4_col4\" class=\"data row4 col4\" >14</td>\n",
       "      <td id=\"T_8cc1f_row4_col5\" class=\"data row4 col5\" >0.017456</td>\n",
       "      <td id=\"T_8cc1f_row4_col6\" class=\"data row4 col6\" >1.745636</td>\n",
       "      <td id=\"T_8cc1f_row4_col7\" class=\"data row4 col7\" >0.087282</td>\n",
       "      <td id=\"T_8cc1f_row4_col8\" class=\"data row4 col8\" >8.728180</td>\n",
       "    </tr>\n",
       "    <tr>\n",
       "      <td id=\"T_8cc1f_row5_col0\" class=\"data row5 col0\" >100</td>\n",
       "      <td id=\"T_8cc1f_row5_col1\" class=\"data row5 col1\" >0.150000</td>\n",
       "      <td id=\"T_8cc1f_row5_col2\" class=\"data row5 col2\" >338</td>\n",
       "      <td id=\"T_8cc1f_row5_col3\" class=\"data row5 col3\" >404</td>\n",
       "      <td id=\"T_8cc1f_row5_col4\" class=\"data row5 col4\" >66</td>\n",
       "      <td id=\"T_8cc1f_row5_col5\" class=\"data row5 col5\" >0.082294</td>\n",
       "      <td id=\"T_8cc1f_row5_col6\" class=\"data row5 col6\" >8.229426</td>\n",
       "      <td id=\"T_8cc1f_row5_col7\" class=\"data row5 col7\" >0.004988</td>\n",
       "      <td id=\"T_8cc1f_row5_col8\" class=\"data row5 col8\" >0.498753</td>\n",
       "    </tr>\n",
       "    <tr>\n",
       "      <td id=\"T_8cc1f_row6_col0\" class=\"data row6 col0\" >Fundo</td>\n",
       "      <td id=\"T_8cc1f_row6_col1\" class=\"data row6 col1\" >0.000000</td>\n",
       "      <td id=\"T_8cc1f_row6_col2\" class=\"data row6 col2\" >336</td>\n",
       "      <td id=\"T_8cc1f_row6_col3\" class=\"data row6 col3\" >340</td>\n",
       "      <td id=\"T_8cc1f_row6_col4\" class=\"data row6 col4\" >4</td>\n",
       "      <td id=\"T_8cc1f_row6_col5\" class=\"data row6 col5\" >0.004988</td>\n",
       "      <td id=\"T_8cc1f_row6_col6\" class=\"data row6 col6\" >0.498753</td>\n",
       "      <td id=\"T_8cc1f_row6_col7\" class=\"data row6 col7\" >0.000000</td>\n",
       "      <td id=\"T_8cc1f_row6_col8\" class=\"data row6 col8\" >0.000000</td>\n",
       "    </tr>\n",
       "  </tbody>\n",
       "</table>\n"
      ],
      "text/plain": [
       "<pandas.io.formats.style.Styler at 0x23e275d9700>"
      ]
     },
     "metadata": {},
     "output_type": "display_data"
    },
    {
     "name": "stdout",
     "output_type": "stream",
     "text": [
      "MODELO: Sigmoide\n",
      "R²: 85.3595 %\n"
     ]
    },
    {
     "data": {
      "text/html": [
       "<style type=\"text/css\">\n",
       "</style>\n",
       "<table id=\"T_87a89\">\n",
       "  <thead>\n",
       "    <tr>\n",
       "      <th id=\"T_87a89_level0_col0\" class=\"col_heading level0 col0\" >log(Di)</th>\n",
       "      <th id=\"T_87a89_level0_col1\" class=\"col_heading level0 col1\" >log(X/(1-X))</th>\n",
       "    </tr>\n",
       "  </thead>\n",
       "  <tbody>\n",
       "    <tr>\n",
       "      <td id=\"T_87a89_row0_col0\" class=\"data row0 col0\" >0.799341</td>\n",
       "      <td id=\"T_87a89_row0_col1\" class=\"data row0 col1\" >0.846337</td>\n",
       "    </tr>\n",
       "    <tr>\n",
       "      <td id=\"T_87a89_row1_col0\" class=\"data row1 col0\" >0.146128</td>\n",
       "      <td id=\"T_87a89_row1_col1\" class=\"data row1 col1\" >0.223582</td>\n",
       "    </tr>\n",
       "    <tr>\n",
       "      <td id=\"T_87a89_row2_col0\" class=\"data row2 col0\" >-0.301030</td>\n",
       "      <td id=\"T_87a89_row2_col1\" class=\"data row2 col1\" >-0.261011</td>\n",
       "    </tr>\n",
       "    <tr>\n",
       "      <td id=\"T_87a89_row3_col0\" class=\"data row3 col0\" >-0.522879</td>\n",
       "      <td id=\"T_87a89_row3_col1\" class=\"data row3 col1\" >-0.931845</td>\n",
       "    </tr>\n",
       "    <tr>\n",
       "      <td id=\"T_87a89_row4_col0\" class=\"data row4 col0\" >-0.602060</td>\n",
       "      <td id=\"T_87a89_row4_col1\" class=\"data row4 col1\" >-1.019413</td>\n",
       "    </tr>\n",
       "    <tr>\n",
       "      <td id=\"T_87a89_row5_col0\" class=\"data row5 col0\" >-0.823909</td>\n",
       "      <td id=\"T_87a89_row5_col1\" class=\"data row5 col1\" >-2.299943</td>\n",
       "    </tr>\n",
       "  </tbody>\n",
       "</table>\n"
      ],
      "text/plain": [
       "<pandas.io.formats.style.Styler at 0x23e275d9700>"
      ]
     },
     "metadata": {},
     "output_type": "display_data"
    }
   ],
   "source": [
    "print(\"TABELA BASE\")\n",
    "display(Base_Table().style.hide())\n",
    "\n",
    "print(f\"MODELO: {best_model}\")\n",
    "print(f\"R²: {regressions[best_model][\"score\"] * 100:.4f} %\")\n",
    "display(models[best_model][\"table\"].style.hide())"
   ]
  },
  {
   "cell_type": "code",
   "execution_count": null,
   "id": "0f4e8495",
   "metadata": {},
   "outputs": [
    {
     "data": {
      "image/png": "[encoded data removed]",
      "text/plain": [
       "<Figure size 640x480 with 1 Axes>"
      ]
     },
     "metadata": {},
     "output_type": "display_data"
    },
    {
     "data": {
      "image/png": "[encoded data removed]",
      "text/plain": [
       "<Figure size 640x480 with 1 Axes>"
      ]
     },
     "metadata": {},
     "output_type": "display_data"
    }
   ],
   "source": [
    "#GRÁFICOS\n",
    "#Grafico Modelo\n",
    "x_axis = models[best_model][\"X\"]\n",
    "y_axis = models[best_model][\"Y\"]\n",
    "y_reg_axis = regressions[best_model][\"prediction\"]\n",
    "\n",
    "plt.scatter(x_axis, y_axis, color=\"grey\",zorder=3)\n",
    "plt.plot(x_axis, y_reg_axis, color=\"orange\",zorder=4)\n",
    "plt.title(f\"Modelo {best_model} Linearizado\")\n",
    "plt.xlabel(f\"{model_labels[best_model][0]}\")\n",
    "plt.ylabel(f\"{model_labels[best_model][1]}\")\n",
    "plt.grid(True,zorder=5)\n",
    "plt.show()\n",
    "\n",
    "#Grafico Distribuição Cumulativa\n",
    "x_axis = dataset[\"Diâmetro\"].values\n",
    "x_axis.sort()\n",
    "\n",
    "y_axis = Base_Table()[\"Fração Passante\"].values\n",
    "y_axis.sort()\n",
    "\n",
    "plt.title(\"Distribuição Acumulativa\")\n",
    "plt.plot(x_axis, y_axis, color=\"orange\", zorder=4)\n",
    "plt.xlabel(\"Diâmetro (mm)\")\n",
    "plt.ylabel(\"Xi\")\n",
    "plt.grid(True,zorder=3)\n",
    "plt.show()\n"
   ]
  }
 ],
 "metadata": {
  "kernelspec": {
   "display_name": "Python 3 (ipykernel)",
   "language": "python",
   "name": "python3"
  },
  "language_info": {
   "codemirror_mode": {
    "name": "ipython",
    "version": 3
   },
   "file_extension": ".py",
   "mimetype": "text/x-python",
   "name": "python",
   "nbconvert_exporter": "python",
   "pygments_lexer": "ipython3",
   "version": "3.12.3"
  }
 },
 "nbformat": 4,
 "nbformat_minor": 5
}
